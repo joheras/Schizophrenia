{
 "cells": [
  {
   "cell_type": "markdown",
   "metadata": {},
   "source": [
    "Libraries"
   ]
  },
  {
   "cell_type": "code",
   "execution_count": 1,
   "metadata": {},
   "outputs": [],
   "source": [
    "from sklearn.model_selection import train_test_split\n",
    "import numpy as np\n",
    "from sklearn.metrics import accuracy_score,precision_score,f1_score,recall_score,roc_auc_score\n",
    "from sklearn.neighbors import KNeighborsClassifier\n",
    "from sklearn.tree import DecisionTreeClassifier\n",
    "from sklearn.svm import SVC\n",
    "from sklearn.naive_bayes import GaussianNB\n",
    "from sklearn.ensemble import BaggingClassifier\n",
    "from sklearn.ensemble import RandomForestClassifier\n",
    "from sklearn.ensemble import ExtraTreesClassifier\n",
    "from sklearn.ensemble import GradientBoostingClassifier"
   ]
  },
  {
   "cell_type": "markdown",
   "metadata": {},
   "source": [
    "Load data"
   ]
  },
  {
   "cell_type": "code",
   "execution_count": 2,
   "metadata": {},
   "outputs": [],
   "source": [
    "s25 = np.load('s25.npy')\n",
    "h25 = np.load('h25.npy')"
   ]
  },
  {
   "cell_type": "code",
   "execution_count": 3,
   "metadata": {},
   "outputs": [],
   "source": [
    "s25_labels = np.array([0 for _ in range(0,len(s25))])\n",
    "h25_labels = np.array([1 for _ in range(0,len(h25))])"
   ]
  },
  {
   "cell_type": "code",
   "execution_count": 4,
   "metadata": {},
   "outputs": [],
   "source": [
    "X = np.append(s25,h25,axis=0)"
   ]
  },
  {
   "cell_type": "code",
   "execution_count": 5,
   "metadata": {},
   "outputs": [],
   "source": [
    "y = np.append(s25_labels,h25_labels,axis=0)"
   ]
  },
  {
   "cell_type": "code",
   "execution_count": 6,
   "metadata": {},
   "outputs": [],
   "source": [
    "def define_models(models=dict()):\n",
    "    # nonlinear models\n",
    "    models[ ' knn ' ] = KNeighborsClassifier(n_neighbors=7,n_jobs=-1)\n",
    "    models[ ' cart ' ] = DecisionTreeClassifier()\n",
    "    models[ ' svm ' ] = SVC()\n",
    "    models[ ' bayes ' ] = GaussianNB()\n",
    "    # ensemble models\n",
    "    models[ ' bag ' ] = BaggingClassifier(n_estimators=100,n_jobs=-1)\n",
    "    models[ ' rf ' ] = RandomForestClassifier(n_estimators=100,n_jobs=-1)\n",
    "    models[ ' et ' ] = ExtraTreesClassifier(n_estimators=100,n_jobs=-1)\n",
    "    print( ' Defined %d models ' % len(models))\n",
    "    return models"
   ]
  },
  {
   "cell_type": "code",
   "execution_count": 7,
   "metadata": {},
   "outputs": [],
   "source": [
    "def evaluate_model(trainX, trainy, testX, testy, model):\n",
    "    # fit the model\n",
    "    model.fit(trainX, trainy)\n",
    "    # make predictions\n",
    "    yhat = model.predict(testX)\n",
    "    # evaluate predictions\n",
    "    accuracy = accuracy_score(testy, yhat)* 100.0\n",
    "    precision = precision_score(testy, yhat)* 100.0\n",
    "    recall = recall_score(testy, yhat)* 100.0\n",
    "    f1score = f1_score(testy, yhat)* 100.0\n",
    "    auc = roc_auc_score(testy, yhat)* 100.0\n",
    "    return [accuracy ,precision,recall,f1score, auc]"
   ]
  },
  {
   "cell_type": "code",
   "execution_count": 8,
   "metadata": {},
   "outputs": [],
   "source": [
    "def evaluate_models(X,y, models):\n",
    "    \n",
    "    results = dict()\n",
    "    for i in range(0,5):\n",
    "        print('Iteration ' + str(i+1))\n",
    "        trainX, testX, trainy, testy = train_test_split(X, y, test_size=0.20)\n",
    "        trainX = trainX.reshape((trainX.shape[0], trainX.shape[1] * trainX.shape[2]))\n",
    "        testX = testX.reshape((testX.shape[0], testX.shape[1] * testX.shape[2]))\n",
    "        for name, model in models.items():\n",
    "            print(name)\n",
    "            # evaluate the model\n",
    "            try:\n",
    "                results[name].append(evaluate_model(trainX, trainy, testX, testy, model))\n",
    "            except:\n",
    "                results[name] = [evaluate_model(trainX, trainy, testX, testy, model)]\n",
    "    return results"
   ]
  },
  {
   "cell_type": "code",
   "execution_count": 9,
   "metadata": {},
   "outputs": [],
   "source": [
    "def show_results(results):\n",
    "    for key in results.keys():\n",
    "        values = results[key]\n",
    "        print(key+ ', mean: '+ str(np.mean(values,axis=0))+ ', std: ' + str(np.std(values,axis=0)))"
   ]
  },
  {
   "cell_type": "code",
   "execution_count": 10,
   "metadata": {},
   "outputs": [
    {
     "name": "stdout",
     "output_type": "stream",
     "text": [
      " Defined 7 models \n",
      "Iteration 1\n",
      " knn \n",
      " cart \n",
      " svm \n",
      " bayes \n",
      " bag \n",
      " rf \n",
      " et \n",
      "Iteration 2\n",
      " knn \n",
      " cart \n",
      " svm \n"
     ]
    },
    {
     "name": "stderr",
     "output_type": "stream",
     "text": [
      "/home/jonathan/.virtualenvs/tensorflow2/lib/python3.6/site-packages/sklearn/metrics/_classification.py:1248: UndefinedMetricWarning: Precision is ill-defined and being set to 0.0 due to no predicted samples. Use `zero_division` parameter to control this behavior.\n",
      "  _warn_prf(average, modifier, msg_start, len(result))\n"
     ]
    },
    {
     "name": "stdout",
     "output_type": "stream",
     "text": [
      " bayes \n",
      " bag \n",
      " rf \n",
      " et \n",
      "Iteration 3\n",
      " knn \n",
      " cart \n",
      " svm \n",
      " bayes \n",
      " bag \n",
      " rf \n",
      " et \n",
      "Iteration 4\n",
      " knn \n",
      " cart \n",
      " svm \n"
     ]
    },
    {
     "name": "stderr",
     "output_type": "stream",
     "text": [
      "/home/jonathan/.virtualenvs/tensorflow2/lib/python3.6/site-packages/sklearn/metrics/_classification.py:1248: UndefinedMetricWarning: Precision is ill-defined and being set to 0.0 due to no predicted samples. Use `zero_division` parameter to control this behavior.\n",
      "  _warn_prf(average, modifier, msg_start, len(result))\n"
     ]
    },
    {
     "name": "stdout",
     "output_type": "stream",
     "text": [
      " bayes \n",
      " bag \n",
      " rf \n",
      " et \n",
      "Iteration 5\n",
      " knn \n",
      " cart \n",
      " svm \n"
     ]
    },
    {
     "name": "stderr",
     "output_type": "stream",
     "text": [
      "/home/jonathan/.virtualenvs/tensorflow2/lib/python3.6/site-packages/sklearn/metrics/_classification.py:1248: UndefinedMetricWarning: Precision is ill-defined and being set to 0.0 due to no predicted samples. Use `zero_division` parameter to control this behavior.\n",
      "  _warn_prf(average, modifier, msg_start, len(result))\n"
     ]
    },
    {
     "name": "stdout",
     "output_type": "stream",
     "text": [
      " bayes \n",
      " bag \n",
      " rf \n",
      " et \n"
     ]
    }
   ],
   "source": [
    "# get model list\n",
    "models = define_models()\n",
    "# evaluate models\n",
    "results = evaluate_models(X, y, models)"
   ]
  },
  {
   "cell_type": "code",
   "execution_count": 11,
   "metadata": {},
   "outputs": [
    {
     "name": "stdout",
     "output_type": "stream",
     "text": [
      " knn , mean: [57.03056769 52.12880064 99.80769231 68.44829803 59.5874109 ], std: [2.21978428 2.6618283  0.38461538 2.30708749 0.56443267]\n",
      " cart , mean: [64.19213974 62.49155113 59.5200608  60.75582515 63.94893769], std: [3.08780254 5.15388845 5.40391032 3.9767022  3.12447954]\n",
      " svm , mean: [54.14847162 20.77253554 32.57692308 25.31135531 54.10675611], std: [ 3.97355918 25.50254391 39.96181609 31.00649841  5.16769241]\n",
      " bayes , mean: [62.62008734 56.08451006 93.21012284 69.94770503 64.35370088], std: [2.52521088 2.76844839 4.60800443 2.45633318 2.30970309]\n",
      " bag , mean: [77.37991266 81.8036581  66.93312139 73.41940021 76.91359658], std: [3.23733677 2.56803125 6.13717025 3.45800439 2.90691349]\n",
      " rf , mean: [75.19650655 83.60499849 59.00738564 68.99506919 74.20695512], std: [2.19907045 4.22064931 3.62920608 1.65892952 1.43184519]\n",
      " et , mean: [76.24454148 80.64572258 64.96110461 71.90200926 75.57602759], std: [1.844429   3.37487153 2.10475505 1.68762181 1.52031375]\n"
     ]
    }
   ],
   "source": [
    "show_results(results)"
   ]
  },
  {
   "cell_type": "code",
   "execution_count": null,
   "metadata": {},
   "outputs": [],
   "source": []
  }
 ],
 "metadata": {
  "kernelspec": {
   "display_name": "Python 3",
   "language": "python",
   "name": "python3"
  },
  "language_info": {
   "codemirror_mode": {
    "name": "ipython",
    "version": 3
   },
   "file_extension": ".py",
   "mimetype": "text/x-python",
   "name": "python",
   "nbconvert_exporter": "python",
   "pygments_lexer": "ipython3",
   "version": "3.6.9"
  }
 },
 "nbformat": 4,
 "nbformat_minor": 2
}
