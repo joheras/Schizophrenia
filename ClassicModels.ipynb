{
 "cells": [
  {
   "cell_type": "markdown",
   "metadata": {},
   "source": [
    "Libraries"
   ]
  },
  {
   "cell_type": "code",
   "execution_count": 1,
   "metadata": {},
   "outputs": [],
   "source": [
    "from sklearn.model_selection import train_test_split\n",
    "import numpy as np\n",
    "from sklearn.metrics import accuracy_score\n",
    "from sklearn.neighbors import KNeighborsClassifier\n",
    "from sklearn.tree import DecisionTreeClassifier\n",
    "from sklearn.svm import SVC\n",
    "from sklearn.naive_bayes import GaussianNB\n",
    "from sklearn.ensemble import BaggingClassifier\n",
    "from sklearn.ensemble import RandomForestClassifier\n",
    "from sklearn.ensemble import ExtraTreesClassifier\n",
    "from sklearn.ensemble import GradientBoostingClassifier"
   ]
  },
  {
   "cell_type": "markdown",
   "metadata": {},
   "source": [
    "Load data"
   ]
  },
  {
   "cell_type": "code",
   "execution_count": 2,
   "metadata": {},
   "outputs": [],
   "source": [
    "s25 = np.load('s25.npy')\n",
    "h25 = np.load('h25.npy')"
   ]
  },
  {
   "cell_type": "code",
   "execution_count": 3,
   "metadata": {},
   "outputs": [],
   "source": [
    "s25_labels = np.array([0 for _ in range(0,len(s25))])\n",
    "h25_labels = np.array([1 for _ in range(0,len(h25))])"
   ]
  },
  {
   "cell_type": "code",
   "execution_count": 4,
   "metadata": {},
   "outputs": [],
   "source": [
    "X = np.append(s25,h25,axis=0)"
   ]
  },
  {
   "cell_type": "code",
   "execution_count": 5,
   "metadata": {},
   "outputs": [],
   "source": [
    "y = np.append(s25_labels,h25_labels,axis=0)"
   ]
  },
  {
   "cell_type": "code",
   "execution_count": 6,
   "metadata": {},
   "outputs": [],
   "source": [
    "def define_models(models=dict()):\n",
    "    # nonlinear models\n",
    "    models[ ' knn ' ] = KNeighborsClassifier(n_neighbors=7,n_jobs=-1)\n",
    "    models[ ' cart ' ] = DecisionTreeClassifier()\n",
    "    models[ ' svm ' ] = SVC()\n",
    "    models[ ' bayes ' ] = GaussianNB()\n",
    "    # ensemble models\n",
    "    models[ ' bag ' ] = BaggingClassifier(n_estimators=100,n_jobs=-1)\n",
    "    models[ ' rf ' ] = RandomForestClassifier(n_estimators=100,n_jobs=-1)\n",
    "    models[ ' et ' ] = ExtraTreesClassifier(n_estimators=100,n_jobs=-1)\n",
    "    print( ' Defined %d models ' % len(models))\n",
    "    return models"
   ]
  },
  {
   "cell_type": "code",
   "execution_count": 7,
   "metadata": {},
   "outputs": [],
   "source": [
    "def evaluate_model(trainX, trainy, testX, testy, model):\n",
    "    # fit the model\n",
    "    model.fit(trainX, trainy)\n",
    "    # make predictions\n",
    "    yhat = model.predict(testX)\n",
    "    # evaluate predictions\n",
    "    accuracy = accuracy_score(testy, yhat)\n",
    "    return accuracy * 100.0"
   ]
  },
  {
   "cell_type": "code",
   "execution_count": 8,
   "metadata": {},
   "outputs": [],
   "source": [
    "def evaluate_models(X,y, models):\n",
    "    \n",
    "    results = dict()\n",
    "    for i in range(0,5):\n",
    "        print('Iteration ' + str(i+1))\n",
    "        trainX, testX, trainy, testy = train_test_split(X, y, test_size=0.20)\n",
    "        trainX = trainX.reshape((trainX.shape[0], trainX.shape[1] * trainX.shape[2]))\n",
    "        testX = testX.reshape((testX.shape[0], testX.shape[1] * testX.shape[2]))\n",
    "        for name, model in models.items():\n",
    "            print(name)\n",
    "            # evaluate the model\n",
    "            try:\n",
    "                results[name].append(evaluate_model(trainX, trainy, testX, testy, model))\n",
    "            except:\n",
    "                results[name] = [evaluate_model(trainX, trainy, testX, testy, model)]\n",
    "    return results"
   ]
  },
  {
   "cell_type": "code",
   "execution_count": 9,
   "metadata": {},
   "outputs": [],
   "source": [
    "def show_results(results):\n",
    "    for key in results.keys():\n",
    "        values = results[key]\n",
    "        print(key+ ', mean: '+ str(np.mean(values))+ ', std: ' + str(np.std(values)))"
   ]
  },
  {
   "cell_type": "code",
   "execution_count": 10,
   "metadata": {},
   "outputs": [
    {
     "name": "stdout",
     "output_type": "stream",
     "text": [
      " Defined 7 models \n",
      "Iteration 1\n",
      " knn \n",
      " cart \n",
      " svm \n",
      " bayes \n",
      " bag \n",
      " rf \n",
      " et \n",
      "Iteration 2\n",
      " knn \n",
      " cart \n",
      " svm \n",
      " bayes \n",
      " bag \n",
      " rf \n",
      " et \n",
      "Iteration 3\n",
      " knn \n",
      " cart \n",
      " svm \n",
      " bayes \n",
      " bag \n",
      " rf \n",
      " et \n",
      "Iteration 4\n",
      " knn \n",
      " cart \n",
      " svm \n",
      " bayes \n",
      " bag \n",
      " rf \n",
      " et \n",
      "Iteration 5\n",
      " knn \n",
      " cart \n",
      " svm \n",
      " bayes \n",
      " bag \n",
      " rf \n",
      " et \n"
     ]
    }
   ],
   "source": [
    "# get model list\n",
    "models = define_models()\n",
    "# evaluate models\n",
    "results = evaluate_models(X, y, models)"
   ]
  },
  {
   "cell_type": "code",
   "execution_count": 11,
   "metadata": {},
   "outputs": [
    {
     "name": "stdout",
     "output_type": "stream",
     "text": [
      " knn , mean: 55.89519650655022, std: 1.1387253109524287\n",
      " cart , mean: 64.71615720524018, std: 2.146411480776334\n",
      " svm , mean: 58.34061135371179, std: 3.521719677494491\n",
      " bayes , mean: 61.572052401746724, std: 0.8733624454148511\n",
      " bag , mean: 78.3406113537118, std: 2.1499622052560983\n",
      " rf , mean: 76.41921397379913, std: 2.260642638523107\n",
      " et , mean: 76.5938864628821, std: 2.3693729198690847\n"
     ]
    }
   ],
   "source": [
    "show_results(results)"
   ]
  },
  {
   "cell_type": "code",
   "execution_count": null,
   "metadata": {},
   "outputs": [],
   "source": []
  }
 ],
 "metadata": {
  "kernelspec": {
   "display_name": "Python 3",
   "language": "python",
   "name": "python3"
  },
  "language_info": {
   "codemirror_mode": {
    "name": "ipython",
    "version": 3
   },
   "file_extension": ".py",
   "mimetype": "text/x-python",
   "name": "python",
   "nbconvert_exporter": "python",
   "pygments_lexer": "ipython3",
   "version": "3.6.9"
  }
 },
 "nbformat": 4,
 "nbformat_minor": 2
}
