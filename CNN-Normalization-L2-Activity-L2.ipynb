{
 "cells": [
  {
   "cell_type": "code",
   "execution_count": 1,
   "metadata": {},
   "outputs": [],
   "source": [
    "from numpy import mean\n",
    "from numpy import std\n",
    "from numpy import dstack\n",
    "from tensorflow.keras.models import Sequential\n",
    "from tensorflow.keras.layers import Dense\n",
    "from tensorflow.keras.layers import Flatten\n",
    "from tensorflow.keras.layers import Dropout\n",
    "from tensorflow.keras.layers import Conv1D\n",
    "from tensorflow.keras.layers import MaxPooling1D\n",
    "from tensorflow.keras.utils import to_categorical\n",
    "from tensorflow.keras.regularizers import l2\n",
    "import numpy as np\n",
    "from sklearn.model_selection import train_test_split\n",
    "import tensorflow as tf"
   ]
  },
  {
   "cell_type": "code",
   "execution_count": 2,
   "metadata": {},
   "outputs": [
    {
     "name": "stdout",
     "output_type": "stream",
     "text": [
      "4 Physical GPUs, 1 Logical GPU\n"
     ]
    }
   ],
   "source": [
    "gpus = tf.config.list_physical_devices('GPU')\n",
    "if gpus:\n",
    "  # Restrict TensorFlow to only use the first GPU\n",
    "  try:\n",
    "    tf.config.experimental.set_visible_devices(gpus[2], 'GPU')\n",
    "    logical_gpus = tf.config.experimental.list_logical_devices('GPU')\n",
    "    print(len(gpus), \"Physical GPUs,\", len(logical_gpus), \"Logical GPU\")\n",
    "  except RuntimeError as e:\n",
    "    # Visible devices must be set before GPUs have been initialized\n",
    "    print(e)"
   ]
  },
  {
   "cell_type": "code",
   "execution_count": 3,
   "metadata": {},
   "outputs": [],
   "source": [
    "s25 = np.load('s25.npy')\n",
    "h25 = np.load('h25.npy')"
   ]
  },
  {
   "cell_type": "code",
   "execution_count": 4,
   "metadata": {},
   "outputs": [],
   "source": [
    "s25_labels = np.array([0 for _ in range(0,len(s25))])\n",
    "h25_labels = np.array([1 for _ in range(0,len(h25))])"
   ]
  },
  {
   "cell_type": "code",
   "execution_count": 5,
   "metadata": {},
   "outputs": [],
   "source": [
    "X = np.append(s25,h25,axis=0)"
   ]
  },
  {
   "cell_type": "code",
   "execution_count": 6,
   "metadata": {},
   "outputs": [],
   "source": [
    "y = np.append(s25_labels,h25_labels,axis=0)"
   ]
  },
  {
   "cell_type": "code",
   "execution_count": 7,
   "metadata": {},
   "outputs": [
    {
     "data": {
      "text/plain": [
       "(1142, 6250, 19)"
      ]
     },
     "execution_count": 7,
     "metadata": {},
     "output_type": "execute_result"
    }
   ],
   "source": [
    "X.shape"
   ]
  },
  {
   "cell_type": "code",
   "execution_count": 12,
   "metadata": {},
   "outputs": [],
   "source": [
    "def evaluate_model(trainX, trainy, testX, testy):\n",
    "    verbose, epochs, batch_size = 0,30,64\n",
    "    n_timesteps, n_features = trainX.shape[1], trainX.shape[2]\n",
    "    model = Sequential()\n",
    "    model.add(Conv1D(filters=64, kernel_size=3, activation='relu', input_shape=(n_timesteps,n_features), activity_regularizer=l2(0.001),kernel_regularizer=l2(0.01), bias_regularizer=l2(0.01)))\n",
    "    model.add(Conv1D(filters=64, kernel_size=3, activation='relu', activity_regularizer=l2(0.001),kernel_regularizer=l2(0.01), bias_regularizer=l2(0.01)))\n",
    "    model.add(Dropout(0.5))\n",
    "    model.add(MaxPooling1D(pool_size=2))\n",
    "    model.add(Flatten())\n",
    "    model.add(Dense(100, activation= 'relu', activity_regularizer=l2(0.001),kernel_regularizer=l2(0.01), bias_regularizer=l2(0.01) ))\n",
    "    model.add(Dropout(0.25))\n",
    "    model.add(Dense(1, activation= 'sigmoid', activity_regularizer=l2(0.001),kernel_regularizer=l2(0.01), bias_regularizer=l2(0.01) ))\n",
    "    model.compile(loss= 'binary_crossentropy' , optimizer= 'adam' , metrics=['accuracy'])\n",
    "    # fit network\n",
    "    model.fit(trainX, trainy, epochs=epochs, batch_size=batch_size, verbose=verbose)\n",
    "    # evaluate model\n",
    "    _, accuracy = model.evaluate(testX, testy, batch_size=batch_size, verbose=0)\n",
    "    return accuracy"
   ]
  },
  {
   "cell_type": "code",
   "execution_count": 13,
   "metadata": {},
   "outputs": [],
   "source": [
    "def summarize_results(scores):\n",
    "    print(scores)\n",
    "    m, s = mean(scores), std(scores)\n",
    "    print( ' Accuracy: %.3f%% (+/-%.3f) ' % (m, s))"
   ]
  },
  {
   "cell_type": "code",
   "execution_count": 14,
   "metadata": {},
   "outputs": [],
   "source": [
    "def run_experiment(X,y,repeats=5):\n",
    "    # load data\n",
    "    trainX, testX,trainy, testy = train_test_split(X, y, test_size=0.20, random_state=42)\n",
    "    mean = trainX.mean(axis=0)\n",
    "    trainX -= mean\n",
    "    std = trainX.std(axis=0)\n",
    "    trainX /= std\n",
    "    \n",
    "    testX -= mean\n",
    "    testX /= std\n",
    "    \n",
    "    \n",
    "    # repeat experiment\n",
    "    scores = list()\n",
    "    for r in range(repeats):\n",
    "        score = evaluate_model(trainX, trainy, testX, testy)\n",
    "        score = score * 100.0\n",
    "        print( ' >#%d: %.3f ' % (r+1, score))\n",
    "        scores.append(score)\n",
    "    # summarize results\n",
    "    summarize_results(scores)"
   ]
  },
  {
   "cell_type": "code",
   "execution_count": 15,
   "metadata": {},
   "outputs": [
    {
     "name": "stdout",
     "output_type": "stream",
     "text": [
      " >#1: 94.323 \n",
      " >#2: 92.576 \n",
      " >#3: 91.266 \n",
      " >#4: 88.646 \n",
      " >#5: 94.760 \n",
      "[94.3231463432312, 92.57642030715942, 91.26637578010559, 88.64628672599792, 94.75982785224915]\n",
      " Accuracy: 92.314% (+/-2.220) \n"
     ]
    }
   ],
   "source": [
    "run_experiment(X,y)"
   ]
  },
  {
   "cell_type": "code",
   "execution_count": 16,
   "metadata": {},
   "outputs": [],
   "source": [
    "def evaluate_model_2(trainX, trainy, testX, testy):\n",
    "    verbose, epochs, batch_size = 0,30,64\n",
    "    n_timesteps, n_features = trainX.shape[1], trainX.shape[2]\n",
    "    model = Sequential()\n",
    "    model.add(Conv1D(filters=64, kernel_size=3, activity_regularizer=l2(0.001), kernel_regularizer=l2(0.01), bias_regularizer=l2(0.01),activation='relu', input_shape=(n_timesteps,n_features)))\n",
    "    model.add(Dropout(0.5))\n",
    "    model.add(Conv1D(filters=64, kernel_size=3, activity_regularizer=l2(0.001), kernel_regularizer=l2(0.01), bias_regularizer=l2(0.01),activation='relu'))\n",
    "    model.add(Dropout(0.5))\n",
    "    model.add(Conv1D(filters=64, kernel_size=3, activity_regularizer=l2(0.001), kernel_regularizer=l2(0.01), bias_regularizer=l2(0.01),activation='relu'))\n",
    "    model.add(Dropout(0.5))\n",
    "    model.add(MaxPooling1D(pool_size=2))\n",
    "    model.add(Flatten())\n",
    "    model.add(Dense(100, activation= 'relu', activity_regularizer=l2(0.001),kernel_regularizer=l2(0.01), bias_regularizer=l2(0.01) ))\n",
    "    model.add(Dropout(0.25))\n",
    "    model.add(Dense(1, activation= 'sigmoid', activity_regularizer=l2(0.001),kernel_regularizer=l2(0.01), bias_regularizer=l2(0.01) ))\n",
    "    model.compile(loss= 'binary_crossentropy' , optimizer= 'adam' , metrics=['accuracy'])\n",
    "    # fit network\n",
    "    model.fit(trainX, trainy, epochs=epochs, batch_size=batch_size, verbose=verbose)\n",
    "    # evaluate model\n",
    "    _, accuracy = model.evaluate(testX, testy, batch_size=batch_size, verbose=0)\n",
    "    return accuracy"
   ]
  },
  {
   "cell_type": "code",
   "execution_count": 17,
   "metadata": {},
   "outputs": [],
   "source": [
    "def run_experiment_2(X,y,repeats=5):\n",
    "    # load data\n",
    "    trainX, testX,trainy, testy = train_test_split(X, y, test_size=0.20, random_state=42)\n",
    "    mean = trainX.mean(axis=0)\n",
    "    trainX -= mean\n",
    "    std = trainX.std(axis=0)\n",
    "    trainX /= std\n",
    "    \n",
    "    testX -= mean\n",
    "    testX /= std\n",
    "    # repeat experiment\n",
    "    scores = list()\n",
    "    for r in range(repeats):\n",
    "        score = evaluate_model_2(trainX, trainy, testX, testy)\n",
    "        score = score * 100.0\n",
    "        print( ' >#%d: %.3f ' % (r+1, score))\n",
    "        scores.append(score)\n",
    "    # summarize results\n",
    "    summarize_results(scores)"
   ]
  },
  {
   "cell_type": "code",
   "execution_count": 18,
   "metadata": {},
   "outputs": [
    {
     "name": "stdout",
     "output_type": "stream",
     "text": [
      " >#1: 61.572 \n",
      " >#2: 61.572 \n",
      " >#3: 61.572 \n",
      " >#4: 46.725 \n",
      " >#5: 50.655 \n",
      "[61.57205104827881, 61.57205104827881, 61.57205104827881, 46.724891662597656, 50.65501928329468]\n",
      " Accuracy: 56.419% (+/-6.432) \n"
     ]
    }
   ],
   "source": [
    "run_experiment_2(X,y)"
   ]
  },
  {
   "cell_type": "code",
   "execution_count": 19,
   "metadata": {},
   "outputs": [],
   "source": [
    "def evaluate_model_3(trainX, trainy, testX, testy):\n",
    "    verbose, epochs, batch_size = 0,30,64\n",
    "    n_timesteps, n_features = trainX.shape[1], trainX.shape[2]\n",
    "    model = Sequential()\n",
    "    model.add(Conv1D(filters=64, kernel_size=3, activation='relu', activity_regularizer=l2(0.001), kernel_regularizer=l2(0.01), bias_regularizer=l2(0.01), input_shape=(n_timesteps,n_features)))\n",
    "    model.add(Conv1D(filters=64, kernel_size=3, activity_regularizer=l2(0.001), kernel_regularizer=l2(0.01), bias_regularizer=l2(0.01), activation='relu'))\n",
    "    model.add(Dropout(0.5))\n",
    "    model.add(MaxPooling1D(pool_size=2))\n",
    "    model.add(Flatten())\n",
    "    model.add(Dense(100, activation= 'relu', activity_regularizer=l2(0.001),kernel_regularizer=l2(0.01), bias_regularizer=l2(0.01) ))\n",
    "    model.add(Dropout(0.25))\n",
    "    model.add(Dense(50, activation= 'relu', activity_regularizer=l2(0.001),kernel_regularizer=l2(0.01), bias_regularizer=l2(0.01) ))\n",
    "    model.add(Dropout(0.25))\n",
    "    model.add(Dense(1, activation= 'sigmoid', activity_regularizer=l2(0.001),kernel_regularizer=l2(0.01), bias_regularizer=l2(0.01) ))\n",
    "    model.compile(loss= 'binary_crossentropy' , optimizer= 'adam' , metrics=['accuracy'])\n",
    "    # fit network\n",
    "    model.fit(trainX, trainy, epochs=epochs, batch_size=batch_size, verbose=verbose)\n",
    "    # evaluate model\n",
    "    _, accuracy = model.evaluate(testX, testy, batch_size=batch_size, verbose=0)\n",
    "    return accuracy"
   ]
  },
  {
   "cell_type": "code",
   "execution_count": 20,
   "metadata": {},
   "outputs": [],
   "source": [
    "def run_experiment_3(X,y,repeats=5):\n",
    "    # load data\n",
    "    trainX, testX,trainy, testy = train_test_split(X, y, test_size=0.20, random_state=42)\n",
    "    mean = trainX.mean(axis=0)\n",
    "    trainX -= mean\n",
    "    std = trainX.std(axis=0)\n",
    "    trainX /= std\n",
    "    \n",
    "    testX -= mean\n",
    "    testX /= std\n",
    "    # repeat experiment\n",
    "    scores = list()\n",
    "    for r in range(repeats):\n",
    "        score = evaluate_model_3(trainX, trainy, testX, testy)\n",
    "        score = score * 100.0\n",
    "        print( ' >#%d: %.3f ' % (r+1, score))\n",
    "        scores.append(score)\n",
    "    # summarize results\n",
    "    summarize_results(scores)"
   ]
  },
  {
   "cell_type": "code",
   "execution_count": 17,
   "metadata": {},
   "outputs": [
    {
     "name": "stdout",
     "output_type": "stream",
     "text": [
      "Epoch 1/10\n",
      "29/29 [==============================] - 1s 18ms/step - loss: 6.5784 - accuracy: 0.5465\n",
      "Epoch 2/10\n",
      "29/29 [==============================] - 1s 18ms/step - loss: 3.9165 - accuracy: 0.7645\n",
      "Epoch 3/10\n",
      "29/29 [==============================] - 1s 17ms/step - loss: 2.5332 - accuracy: 0.9102\n",
      "Epoch 4/10\n",
      "29/29 [==============================] - 1s 18ms/step - loss: 1.9143 - accuracy: 0.9518\n",
      "Epoch 5/10\n",
      "29/29 [==============================] - 1s 18ms/step - loss: 1.5539 - accuracy: 0.9715\n",
      "Epoch 6/10\n",
      "29/29 [==============================] - 1s 18ms/step - loss: 1.3760 - accuracy: 0.9792\n",
      "Epoch 7/10\n",
      "29/29 [==============================] - 1s 18ms/step - loss: 1.1695 - accuracy: 0.9945\n",
      "Epoch 8/10\n",
      "29/29 [==============================] - 1s 18ms/step - loss: 1.1158 - accuracy: 0.9803\n",
      "Epoch 9/10\n",
      "29/29 [==============================] - 1s 18ms/step - loss: 1.0732 - accuracy: 0.9792\n",
      "Epoch 10/10\n",
      "29/29 [==============================] - 1s 17ms/step - loss: 0.9925 - accuracy: 0.9869\n",
      " >#1: 96.507 \n",
      "Epoch 1/10\n",
      "29/29 [==============================] - 1s 17ms/step - loss: 7.6793 - accuracy: 0.5663\n",
      "Epoch 2/10\n",
      "29/29 [==============================] - 1s 18ms/step - loss: 4.6756 - accuracy: 0.6813\n",
      "Epoch 3/10\n",
      "29/29 [==============================] - 1s 18ms/step - loss: 3.0905 - accuracy: 0.8642\n",
      "Epoch 4/10\n",
      "29/29 [==============================] - 1s 18ms/step - loss: 2.2310 - accuracy: 0.9409\n",
      "Epoch 5/10\n",
      "29/29 [==============================] - 1s 18ms/step - loss: 1.8076 - accuracy: 0.9639\n",
      "Epoch 6/10\n",
      "29/29 [==============================] - 1s 18ms/step - loss: 1.4921 - accuracy: 0.9869\n",
      "Epoch 7/10\n",
      "29/29 [==============================] - 1s 18ms/step - loss: 1.2900 - accuracy: 0.9869\n",
      "Epoch 8/10\n",
      "29/29 [==============================] - 1s 18ms/step - loss: 1.1727 - accuracy: 0.9803\n",
      "Epoch 9/10\n",
      "29/29 [==============================] - 1s 18ms/step - loss: 1.1028 - accuracy: 0.9869\n",
      "Epoch 10/10\n",
      "29/29 [==============================] - 1s 17ms/step - loss: 0.9962 - accuracy: 0.9869\n",
      " >#2: 94.760 \n",
      "Epoch 1/10\n",
      "29/29 [==============================] - 1s 17ms/step - loss: 6.9103 - accuracy: 0.5827\n",
      "Epoch 2/10\n",
      "29/29 [==============================] - 1s 18ms/step - loss: 3.7876 - accuracy: 0.8478\n",
      "Epoch 3/10\n",
      "29/29 [==============================] - 1s 18ms/step - loss: 2.5231 - accuracy: 0.9474\n",
      "Epoch 4/10\n",
      "29/29 [==============================] - 1s 18ms/step - loss: 1.9876 - accuracy: 0.9595\n",
      "Epoch 5/10\n",
      "29/29 [==============================] - 1s 17ms/step - loss: 1.6367 - accuracy: 0.9836\n",
      "Epoch 6/10\n",
      "29/29 [==============================] - 1s 18ms/step - loss: 1.4134 - accuracy: 0.9803\n",
      "Epoch 7/10\n",
      "29/29 [==============================] - 1s 18ms/step - loss: 1.3353 - accuracy: 0.9781\n",
      "Epoch 8/10\n",
      "29/29 [==============================] - 1s 18ms/step - loss: 1.1847 - accuracy: 0.9825\n",
      "Epoch 9/10\n",
      "29/29 [==============================] - 1s 18ms/step - loss: 1.1963 - accuracy: 0.9726\n",
      "Epoch 10/10\n",
      "29/29 [==============================] - 1s 17ms/step - loss: 1.1102 - accuracy: 0.9890\n",
      " >#3: 95.633 \n",
      "Epoch 1/10\n",
      "29/29 [==============================] - 1s 18ms/step - loss: 7.6270 - accuracy: 0.5060\n",
      "Epoch 2/10\n",
      "29/29 [==============================] - 1s 18ms/step - loss: 4.4957 - accuracy: 0.6046\n",
      "Epoch 3/10\n",
      "29/29 [==============================] - 1s 18ms/step - loss: 3.0406 - accuracy: 0.7777\n",
      "Epoch 4/10\n",
      "29/29 [==============================] - 1s 18ms/step - loss: 2.2067 - accuracy: 0.9222\n",
      "Epoch 5/10\n",
      "29/29 [==============================] - 1s 18ms/step - loss: 1.7093 - accuracy: 0.9726\n",
      "Epoch 6/10\n",
      "29/29 [==============================] - 1s 18ms/step - loss: 1.4896 - accuracy: 0.9759\n",
      "Epoch 7/10\n",
      "29/29 [==============================] - 1s 18ms/step - loss: 1.3737 - accuracy: 0.9595\n",
      "Epoch 8/10\n",
      "29/29 [==============================] - 1s 18ms/step - loss: 1.1892 - accuracy: 0.9869\n",
      "Epoch 9/10\n",
      "29/29 [==============================] - 1s 18ms/step - loss: 1.0889 - accuracy: 0.9880\n",
      "Epoch 10/10\n",
      "29/29 [==============================] - 1s 17ms/step - loss: 1.0035 - accuracy: 0.9923\n",
      " >#4: 93.013 \n",
      "Epoch 1/10\n",
      "29/29 [==============================] - 1s 17ms/step - loss: 6.1731 - accuracy: 0.6068\n",
      "Epoch 2/10\n",
      "29/29 [==============================] - 1s 18ms/step - loss: 3.8767 - accuracy: 0.8302\n",
      "Epoch 3/10\n",
      "29/29 [==============================] - 1s 18ms/step - loss: 2.4327 - accuracy: 0.9310\n",
      "Epoch 4/10\n",
      "29/29 [==============================] - 1s 18ms/step - loss: 1.7812 - accuracy: 0.9748\n",
      "Epoch 5/10\n",
      "29/29 [==============================] - 1s 18ms/step - loss: 1.4205 - accuracy: 0.9869\n",
      "Epoch 6/10\n",
      "29/29 [==============================] - 1s 18ms/step - loss: 1.2109 - accuracy: 0.9880\n",
      "Epoch 7/10\n",
      "29/29 [==============================] - 1s 18ms/step - loss: 1.1604 - accuracy: 0.9792\n",
      "Epoch 8/10\n",
      "29/29 [==============================] - 1s 18ms/step - loss: 1.1238 - accuracy: 0.9704\n",
      "Epoch 9/10\n",
      "29/29 [==============================] - 1s 18ms/step - loss: 1.0153 - accuracy: 0.9912\n",
      "Epoch 10/10\n",
      "29/29 [==============================] - 1s 17ms/step - loss: 0.8756 - accuracy: 0.9956\n",
      " >#5: 95.197 \n",
      "[96.50654792785645, 94.75982785224915, 95.63318490982056, 93.01310181617737, 95.19650936126709]\n",
      " Accuracy: 95.022% (+/-1.159) \n"
     ]
    }
   ],
   "source": [
    "run_experiment_3(X,y)"
   ]
  },
  {
   "cell_type": "code",
   "execution_count": null,
   "metadata": {},
   "outputs": [],
   "source": []
  }
 ],
 "metadata": {
  "kernelspec": {
   "display_name": "Python 3",
   "language": "python",
   "name": "python3"
  },
  "language_info": {
   "codemirror_mode": {
    "name": "ipython",
    "version": 3
   },
   "file_extension": ".py",
   "mimetype": "text/x-python",
   "name": "python",
   "nbconvert_exporter": "python",
   "pygments_lexer": "ipython3",
   "version": "3.6.9"
  }
 },
 "nbformat": 4,
 "nbformat_minor": 2
}
